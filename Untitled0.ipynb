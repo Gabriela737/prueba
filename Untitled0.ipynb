{
  "nbformat": 4,
  "nbformat_minor": 0,
  "metadata": {
    "colab": {
      "name": "Untitled0.ipynb",
      "provenance": [],
      "include_colab_link": true
    },
    "kernelspec": {
      "name": "python3",
      "display_name": "Python 3"
    }
  },
  "cells": [
    {
      "cell_type": "markdown",
      "metadata": {
        "id": "view-in-github",
        "colab_type": "text"
      },
      "source": [
        "<a href=\"https://colab.research.google.com/github/Gabriela737/prueba/blob/master/Untitled0.ipynb\" target=\"_parent\"><img src=\"https://colab.research.google.com/assets/colab-badge.svg\" alt=\"Open In Colab\"/></a>"
      ]
    },
    {
      "cell_type": "code",
      "metadata": {
        "id": "8S8A0m764Rh1",
        "colab_type": "code",
        "outputId": "ab6dec2d-da47-4554-ad26-b85c375517cb",
        "colab": {
          "base_uri": "https://localhost:8080/",
          "height": 34
        }
      },
      "source": [
        "!pwd"
      ],
      "execution_count": 0,
      "outputs": [
        {
          "output_type": "stream",
          "text": [
            "/content\n"
          ],
          "name": "stdout"
        }
      ]
    },
    {
      "cell_type": "code",
      "metadata": {
        "id": "zi38xf8s4fiT",
        "colab_type": "code",
        "outputId": "9048cc44-8980-4cd6-9dcb-5274f8de9ab0",
        "colab": {
          "base_uri": "https://localhost:8080/",
          "height": 34
        }
      },
      "source": [
        "!ls"
      ],
      "execution_count": 0,
      "outputs": [
        {
          "output_type": "stream",
          "text": [
            "sample_data\n"
          ],
          "name": "stdout"
        }
      ]
    },
    {
      "cell_type": "code",
      "metadata": {
        "id": "-Cw5l7oT4uu6",
        "colab_type": "code",
        "outputId": "fdba49c8-9f60-4646-b4f1-8345c52452f2",
        "colab": {
          "base_uri": "https://localhost:8080/",
          "height": 51
        }
      },
      "source": [
        "!ls -l"
      ],
      "execution_count": 0,
      "outputs": [
        {
          "output_type": "stream",
          "text": [
            "total 4\n",
            "drwxr-xr-x 1 root root 4096 Aug 27 16:17 sample_data\n"
          ],
          "name": "stdout"
        }
      ]
    },
    {
      "cell_type": "code",
      "metadata": {
        "id": "sjyklbbZ5PRS",
        "colab_type": "code",
        "outputId": "26c31474-894f-4ed8-fac1-72a75fc14ba9",
        "colab": {
          "base_uri": "https://localhost:8080/",
          "height": 68
        }
      },
      "source": [
        "! ls /"
      ],
      "execution_count": 0,
      "outputs": [
        {
          "output_type": "stream",
          "text": [
            "bin\t datalab  home\t lib64\topt   run   swift\t\t  tmp\t var\n",
            "boot\t dev\t  lib\t media\tproc  sbin  sys\t\t\t  tools\n",
            "content  etc\t  lib32  mnt\troot  srv   tensorflow-2.0.0-rc1  usr\n"
          ],
          "name": "stdout"
        }
      ]
    },
    {
      "cell_type": "code",
      "metadata": {
        "id": "y7RX_00N9QvD",
        "colab_type": "code",
        "colab": {}
      },
      "source": [
        "! ls ~"
      ],
      "execution_count": 0,
      "outputs": []
    },
    {
      "cell_type": "code",
      "metadata": {
        "id": "4gIblnxS9ow_",
        "colab_type": "code",
        "colab": {}
      },
      "source": [
        "! touch demo.txt"
      ],
      "execution_count": 0,
      "outputs": []
    },
    {
      "cell_type": "code",
      "metadata": {
        "id": "clMsvcrd95Qy",
        "colab_type": "code",
        "colab": {}
      },
      "source": [
        "! ls ~"
      ],
      "execution_count": 0,
      "outputs": []
    },
    {
      "cell_type": "code",
      "metadata": {
        "id": "mltf3O3M-KsS",
        "colab_type": "code",
        "outputId": "59a4faa1-803a-40bf-b9c7-7775534d9201",
        "colab": {
          "base_uri": "https://localhost:8080/",
          "height": 34
        }
      },
      "source": [
        "! mkdir demo_clase && ls -l"
      ],
      "execution_count": 0,
      "outputs": [
        {
          "output_type": "stream",
          "text": [
            "mkdir: cannot create directory ‘demo_clase’: File exists\n"
          ],
          "name": "stdout"
        }
      ]
    },
    {
      "cell_type": "code",
      "metadata": {
        "id": "2VghmwAP_J-N",
        "colab_type": "code",
        "colab": {}
      },
      "source": [
        "! cd demo"
      ],
      "execution_count": 0,
      "outputs": []
    },
    {
      "cell_type": "code",
      "metadata": {
        "id": "p-TkHInO_eFh",
        "colab_type": "code",
        "colab": {}
      },
      "source": [
        "! cd demo_clase"
      ],
      "execution_count": 0,
      "outputs": []
    },
    {
      "cell_type": "code",
      "metadata": {
        "id": "XSF8Q-LV_wKq",
        "colab_type": "code",
        "colab": {}
      },
      "source": [
        "! rmdir demo "
      ],
      "execution_count": 0,
      "outputs": []
    }
  ]
}